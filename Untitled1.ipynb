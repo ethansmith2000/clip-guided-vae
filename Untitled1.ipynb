{
 "cells": [
  {
   "cell_type": "code",
   "execution_count": null,
   "id": "1178ebbc-a41f-4b06-9d76-7f255d6b198e",
   "metadata": {},
   "outputs": [],
   "source": [
    "from types import SimpleNamespace\n",
    "import transformers\n",
    "import diffusers\n",
    "import torch\n",
    "from optimization import run_args, run\n",
    "processor = transformers.CLIPProcessor.from_pretrained(\"openai/clip-vit-large-patch14\")\n",
    "clip_model = transformers.CLIPModel.from_pretrained(\"openai/clip-vit-large-patch14\").to(\"cuda\",torch.float32)\n",
    "vae = diffusers.AutoencoderKL.from_pretrained(\"runwayml/stable-diffusion-v1-5\",subfolder=\"vae\").to(\"cuda\",torch.float32)"
   ]
  },
  {
   "cell_type": "code",
   "execution_count": null,
   "id": "b8f3e149-771f-4b39-b43c-7193756926e3",
   "metadata": {},
   "outputs": [],
   "source": [
    "args = run_args()\n",
    "args = SimpleNamespace(**args)\n",
    "img = run(vae, clip_model, processor, args)"
   ]
  }
 ],
 "metadata": {
  "kernelspec": {
   "display_name": "Python 3",
   "language": "python",
   "name": "python3"
  },
  "language_info": {
   "codemirror_mode": {
    "name": "ipython",
    "version": 3
   },
   "file_extension": ".py",
   "mimetype": "text/x-python",
   "name": "python",
   "nbconvert_exporter": "python",
   "pygments_lexer": "ipython3",
   "version": "3.8.10"
  }
 },
 "nbformat": 4,
 "nbformat_minor": 5
}
